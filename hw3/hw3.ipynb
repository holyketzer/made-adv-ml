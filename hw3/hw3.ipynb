{
 "cells": [
  {
   "cell_type": "code",
   "execution_count": 2,
   "metadata": {},
   "outputs": [
    {
     "name": "stdout",
     "output_type": "stream",
     "text": [
      "total 15144\r\n",
      "-rw-rw-r--@ 1 alex  staff  3252510 Jun  1  2020 AnnaKarenina.txt\r\n",
      "-rw-rw-r--@ 1 alex  staff  1267920 Jun  1  2020 WarAndPeace.txt\r\n",
      "-rw-rw-r--@ 1 alex  staff  3226634 Jun  1  2020 WarAndPeaceEng.txt\r\n"
     ]
    }
   ],
   "source": [
    "!ls -l corpora"
   ]
  },
  {
   "cell_type": "code",
   "execution_count": 210,
   "metadata": {},
   "outputs": [
    {
     "name": "stderr",
     "output_type": "stream",
     "text": [
      "[nltk_data] Downloading package punkt to /Users/alex/nltk_data...\n",
      "[nltk_data]   Package punkt is already up-to-date!\n"
     ]
    },
    {
     "data": {
      "text/plain": [
       "True"
      ]
     },
     "execution_count": 210,
     "metadata": {},
     "output_type": "execute_result"
    }
   ],
   "source": [
    "import numpy as np\n",
    "import random\n",
    "import re \n",
    "import pandas as pd\n",
    "\n",
    "from collections import Counter, defaultdict\n",
    "from operator import itemgetter\n",
    "from tqdm.notebook import tqdm\n",
    "\n",
    "import fastwer\n",
    "import matplotlib.pyplot as plt\n",
    "import nltk\n",
    "\n",
    "nltk.download('punkt')"
   ]
  },
  {
   "cell_type": "markdown",
   "metadata": {},
   "source": [
    "# 1. Базовый частотный метод по Шерлоку Холмсу"
   ]
  },
  {
   "cell_type": "code",
   "execution_count": 193,
   "metadata": {},
   "outputs": [
    {
     "name": "stdout",
     "output_type": "stream",
     "text": [
      "32\n"
     ]
    },
    {
     "data": {
      "text/plain": [
       "[(162409, 'О'),\n",
       " (123650, 'Е'),\n",
       " (117104, 'А'),\n",
       " (98139, 'Н'),\n",
       " (93874, 'И'),\n",
       " (84639, 'Т'),\n",
       " (75124, 'С'),\n",
       " (70914, 'Л'),\n",
       " (66562, 'В'),\n",
       " (56289, 'Р'),\n",
       " (48460, 'К'),\n",
       " (41632, 'Д'),\n",
       " (40527, 'М'),\n",
       " (38129, 'У'),\n",
       " (34093, 'П'),\n",
       " (30444, 'Я'),\n",
       " (27853, 'Ь'),\n",
       " (26214, 'Ы'),\n",
       " (25693, 'Г'),\n",
       " (24718, 'Б'),\n",
       " (23858, 'Ч'),\n",
       " (23121, 'З'),\n",
       " (16020, 'Ж'),\n",
       " (14862, 'Й'),\n",
       " (12068, 'Ш'),\n",
       " (10986, 'Х'),\n",
       " (8812, 'Ю'),\n",
       " (5019, 'Э'),\n",
       " (4054, 'Щ'),\n",
       " (3993, 'Ц'),\n",
       " (1781, 'Ф'),\n",
       " (412, 'Ъ')]"
      ]
     },
     "execution_count": 193,
     "metadata": {},
     "output_type": "execute_result"
    }
   ],
   "source": [
    "def load_text(path):\n",
    "    with open(path, \"r\") as f:\n",
    "        return f.read()\n",
    "\n",
    "def has_cyrillic(text):\n",
    "    return bool(re.search('[а-яА-Я]', text))\n",
    "\n",
    "def letter_filter(letter, cyrillic=False, skip_aplha_check=False):\n",
    "    if skip_aplha_check:\n",
    "        if letter.isspace():\n",
    "            return False\n",
    "    elif not letter.isalpha():\n",
    "        return False\n",
    "    \n",
    "    if cyrillic:        \n",
    "        return has_cyrillic(letter)\n",
    "    else:\n",
    "        return True\n",
    "    \n",
    "def sort_by_count(freq):\n",
    "    return list(reversed(sorted([(count, k) for k, count in freq.items()])))\n",
    "\n",
    "\n",
    "def letter_freq(text, cyrillic=False, skip_aplha_check=False, count_space=False):\n",
    "    counter = Counter(text.upper())\n",
    "    res = {k:count for k, count in counter.items() if letter_filter(k, cyrillic, skip_aplha_check) or (count_space and k == \" \")}\n",
    "    return sort_by_count(res)    \n",
    "\n",
    "ANNA_TEXT = load_text(\"corpora/AnnaKarenina.txt\")\n",
    "    \n",
    "freq = letter_freq(ANNA_TEXT, cyrillic=True)\n",
    "\n",
    "print(len(freq))\n",
    "freq"
   ]
  },
  {
   "cell_type": "code",
   "execution_count": 66,
   "metadata": {},
   "outputs": [
    {
     "data": {
      "text/plain": [
       "'А Б В Г Д Е Ж З И Й К Л М Н О П Р С Т У Ф Х Ц Ч Ш Щ Ъ Ы Ь Э Ю Я'"
      ]
     },
     "execution_count": 66,
     "metadata": {},
     "output_type": "execute_result"
    }
   ],
   "source": [
    "ALPHABET = set(map(itemgetter(1), freq))\n",
    "\n",
    "\" \".join(list(sorted(ALPHABET)))"
   ]
  },
  {
   "cell_type": "markdown",
   "metadata": {},
   "source": [
    "**Возьмём в качестве корпуса Анну Каренину. В тексте есть все буквы русского алфавита кроме \"Ё\", инетресно это Толстой так писал или вырезали при оцифровке? Полагаю второе**"
   ]
  },
  {
   "cell_type": "code",
   "execution_count": 134,
   "metadata": {},
   "outputs": [
    {
     "data": {
      "text/plain": [
       "['Они все глядели на него, но никто ничего не говорил до тех пор, пока вышедший на дорогу высокий старик со сморщенным и безбородым лицом, в овчинной куртке, не обратился к нему. Она знала, что значит и за какие деньги приобретается эта простота.',\n",
       " 'Еще по звуку легких шагов на лестнице он почувствовал ее приближение, и, хотя он был доволен своею речью, ему стало страшно за предстоящее объяснение…\\n\\n\\n\\n\\n\\nIX\\n\\n\\n\\n\\nАнна шла, опустив голову и играя кистями башлыка. – умоляющим голосом заговорил он в отворенную дверь.',\n",
       " 'Болото высохло, и дупелей совсем не было. Купец больше не давал денег, тем более что в эту зиму Дарья Александровна, в первый раз прямо заявив права на свое состояние, отказалась расписаться на контракте в получении денег за последнюю треть леса.',\n",
       " 'Вслед за ним пришел лакей от княгини Бетси и принес Анне записку:\\n\\n«Я послала к Алексею узнать об его здоровье, и он мне пишет, что здоров и цел, но в отчаянии». – смеясь, обратилась Бетси к входившей в ее ложу даме.',\n",
       " 'Несколько человек больных медлили около колясочки, глядя на эту даму, как на что-то необыкновенное. Все это нравилось ему, но уже столько раз нравилось!']"
      ]
     },
     "execution_count": 134,
     "metadata": {},
     "output_type": "execute_result"
    }
   ],
   "source": [
    "ANNA_SENTENCES = nltk.tokenize.sent_tokenize(ANNA_TEXT)\n",
    "\n",
    "def sample_sentence(sentences, count=1, min_length=40, concat=1):\n",
    "    res = []\n",
    "    while len(res) < count:\n",
    "        item = []\n",
    "        while len(item) < concat:\n",
    "            sentence = random.choice(sentences)\n",
    "            if len(sentence) >= min_length:\n",
    "                item.append(sentence)\n",
    "                \n",
    "        res.append(\" \".join(item))\n",
    "\n",
    "    return res\n",
    "    \n",
    "sample_sentence(ANNA_SENTENCES, 5, concat=2)"
   ]
  },
  {
   "cell_type": "code",
   "execution_count": 55,
   "metadata": {},
   "outputs": [
    {
     "data": {
      "text/plain": [
       "'\\u3040 ぁ あ ぃ い ぅ う ぇ え ぉ お か が き ぎ く ぐ け げ こ ご さ ざ し じ す ず せ ぜ そ ぞ た だ ち ぢ っ つ づ て で と ど な に ぬ ね の は ば ぱ ひ び ぴ ふ ぶ ぷ へ べ ぺ ほ ぼ ぽ ま み む め も ゃ や ゅ ゆ ょ よ ら り る れ ろ ゎ わ ゐ ゑ を ん ゔ ゕ ゖ \\u3097 \\u3098 ゙ ゚ ゛ ゜ ゝ ゞ'"
      ]
     },
     "execution_count": 55,
     "metadata": {},
     "output_type": "execute_result"
    }
   ],
   "source": [
    "def show_char_range(a, b):\n",
    "    return \" \".join(map(chr, range(a, b)))\n",
    "\n",
    "show_char_range(ord(u\"\\u3040\"), ord(u\"\\u309f\")) # Japanese Hiragana"
   ]
  },
  {
   "cell_type": "code",
   "execution_count": 56,
   "metadata": {},
   "outputs": [
    {
     "data": {
      "text/plain": [
       "'゠ ァ ア ィ イ ゥ ウ ェ エ ォ オ カ ガ キ ギ ク グ ケ ゲ コ ゴ サ ザ シ ジ ス ズ セ ゼ ソ ゾ タ ダ チ ヂ ッ ツ ヅ テ デ ト ド ナ ニ ヌ ネ ノ ハ バ パ ヒ ビ ピ フ ブ プ ヘ ベ ペ ホ ボ ポ マ ミ ム メ モ ャ ヤ ュ ユ ョ ヨ ラ リ ル レ ロ ヮ ワ ヰ ヱ ヲ ン ヴ ヵ ヶ ヷ ヸ ヹ ヺ ・ ー ヽ ヾ'"
      ]
     },
     "execution_count": 56,
     "metadata": {},
     "output_type": "execute_result"
    }
   ],
   "source": [
    "show_char_range(ord(u\"\\u30a0\"), ord(u\"\\u30ff\")) # Japanese Katakana"
   ]
  },
  {
   "cell_type": "markdown",
   "metadata": {},
   "source": [
    "**Переставлять буквы скучно, надо закодировать чем-нить эдаким, например японской слоговой азбукой. Возьму катакану, люблю когда в иероглифах короткие прямые линии и острые углы.**"
   ]
  },
  {
   "cell_type": "code",
   "execution_count": 250,
   "metadata": {},
   "outputs": [
    {
     "data": {
      "text/plain": [
       "(['И ЭТОТ ИДЕАЛ ЕГО ГЕРОЙ ЛЕВИН НАХОДИТ В НАРОДНОЙ ЖИЗНИ НАПРОТИВ ОН ВЕСЕЛ БЫВАЕТ ЗА ГРАНИЦЕЙ НО НИКОГДА ТАК КАК ЗДЕСЬ  ЕСЛИ ХОЧЕШЬ ЗНАТЬ ВСЮ МОЮ ИСПОВЕДЬ В ЭТОМ ОТНОШЕНИИ Я СКАЖУ ТЕБЕ ЧТО В ВАШЕЙ ССОРЕ С СЕРГЕЕМ ИВАНЫЧЕМ Я НЕ БЕРУ НИ ТОЙ НИ ДРУГОЙ СТОРОНЫ',\n",
       "  'ПРИ ЭТИХ СЛОВАХ ЛИЦО ЛЕВИНА ВДРУГ ПРОСИЯЛО УЛЫБКОЙ ТОЮ КОТОРАЯ БЛИЗКА К СЛЕЗАМ УМИЛЕНИЯ ЗАД БЫЛ НЕМНОГО СВИСЛЫЙ И В НОГАХ ПЕРЕДНИХ И ОСОБЕННО ЗАДНИХ БЫЛА ЗНАЧИТЕЛЬНАЯ КОСОЛАПИНА  ЗАТЕМ ВИДНО И НЕ ЖЕНИЛСЯ И НИКОГДА НЕ СОБИРАЛСЯ'],\n",
       " ['テ ソミヹミ テヂバヤケ バボヹ ボバペヹヵ ケバキテマ マヤッヹヂテミ キ マヤペヹヂマヹヵ ヅテデマテ マヤャペヹミテキ ヹマ キバドバケ シイキヤバミ デヤ ボペヤマテズバヵ マヹ マテギヹボヂヤ ミヤギ ギヤギ デヂバドヨ  バドケテ ッヹーバザヨ デマヤミヨ キドヲ ョヹヲ テドャヹキバヂヨ キ ソミヹョ ヹミマヹザバマテテ ヰ ドギヤヅン ミバシバ ーミヹ キ キヤザバヵ ドドヹペバ ド ドバペボババョ テキヤマイーバョ ヰ マバ シバペン マテ ミヹヵ マテ ヂペンボヹヵ ドミヹペヹマイ',\n",
       "  'ボピヱ ゼポヱヾ ヌヒイウグヾ ヒヱクイ ヒヴウヱフグ ウヰピッキ ボピイヌヱエヒイ ッヒノヨェイコ ポイズ ェイポイピグエ ヨヒヱダェグ ェ ヌヒヴダグビ ッビヱヒヴフヱエ ダグヰ ヨノヒ フヴビフイキイ ヌウヱヌヒノコ ヱ ウ フイキグヾ ボヴピヴヰフヱヾ ヱ イヌイヨヴフフイ ダグヰフヱヾ ヨノヒグ ダフグネヱポヴヒヅフグエ ェイヌイヒグボヱフグ  ダグポヴビ ウヱヰフイ ヱ フヴ ロヴフヱヒヌエ ヱ フヱェイキヰグ フヴ ヌイヨヱピグヒヌエ'])"
      ]
     },
     "execution_count": 250,
     "metadata": {},
     "output_type": "execute_result"
    }
   ],
   "source": [
    "katakana = list(map(chr, range(ord(u\"\\u30a0\"), ord(u\"\\u30ff\"))))\n",
    "\n",
    "def clean_sentence(text, alphabet):\n",
    "    res = []\n",
    "    \n",
    "    for c in text:\n",
    "        if c in alphabet or c == \" \":\n",
    "            res.append(c)\n",
    "            \n",
    "    return \"\".join(res)        \n",
    "\n",
    "def cypher_chars(text, cypher):\n",
    "    return \"\".join(map(lambda c: cypher[c], text))\n",
    "\n",
    "def encrypt(texts, alphabet, replacement_chars):    \n",
    "    original = []\n",
    "    enc = []\n",
    "    cypher_alpha = []\n",
    "    \n",
    "    for text in texts:        \n",
    "        text = text.upper()\n",
    "        text = clean_sentence(text, alphabet)\n",
    "        \n",
    "        random.shuffle(replacement_chars)    \n",
    "        cypher = {c:replacement_chars[i]  for i, c in enumerate(alphabet) }\n",
    "        cypher[\" \"] = \" \"\n",
    "        enc_text = \"\".join(map(lambda c: cypher[c], text))\n",
    "        enc_text = cypher_chars(text, cypher)\n",
    "        \n",
    "        original.append(text)\n",
    "        enc.append(enc_text)\n",
    "        cypher_alpha.append(replacement_chars[0:len(alphabet)])\n",
    "    \n",
    "    return original, enc, cypher_alpha\n",
    "    \n",
    "    \n",
    "senteces = sample_sentence(ANNA_SENTENCES, 2, concat=3)\n",
    "original, encrypted, _ = encrypt(senteces, ALPHABET, katakana)\n",
    "original, encrypted"
   ]
  },
  {
   "cell_type": "code",
   "execution_count": 251,
   "metadata": {},
   "outputs": [
    {
     "data": {
      "text/plain": [
       "['Н ЭТЕТ НРОИЬ ОДЕ ДОВЕК ЬОЛНА АИЮЕРНТ Л АИВЕРАЕК ХНЯАН АИШВЕТНЛ ЕА ЛОСОЬ БЗЛИОТ ЯИ ДВИАНЩОК АЕ АНМЕДРИ ТИМ МИМ ЯРОСУ  ОСЬН ЮЕЫОЧУ ЯАИТУ ЛСЖ ПЕЖ НСШЕЛОРУ Л ЭТЕП ЕТАЕЧОАНН Й СМИХГ ТОБО ЫТЕ Л ЛИЧОК ССЕВО С СОВДООП НЛИАЗЫОП Й АО БОВГ АН ТЕК АН РВГДЕК СТЕВЕАЗ',\n",
       " 'ЬРО ХЯОП СИЕУНП ИОЭЕ ИТУОАН УЛРЧБ ЬРЕСОДИЕ ЧИГВМЕЗ ЯЕЮ МЕЯЕРНД ВИОКМН М СИТКНЫ ЧЫОИТАОД КНЛ ВГИ АТЫАЕБЕ СУОСИГЗ О У АЕБНП ЬТРТЛАОП О ЕСЕВТААЕ КНЛАОП ВГИН КАНЙОЯТИШАНД МЕСЕИНЬОАН  КНЯТЫ УОЛАЕ О АТ ЖТАОИСД О АОМЕБЛН АТ СЕВОРНИСД']"
      ]
     },
     "execution_count": 251,
     "metadata": {},
     "output_type": "execute_result"
    }
   ],
   "source": [
    "def freq_decrypt(texts, freq):    \n",
    "    letter_freq_order = list(map(itemgetter(1), freq))    \n",
    "    \n",
    "    res = []\n",
    "    for text in texts:\n",
    "        enc_freq = letter_freq(text, skip_aplha_check=True)\n",
    "        enc_freq_order =  list(map(itemgetter(1), enc_freq))\n",
    "        chyper = {cc:letter_freq_order[i] for i, cc in enumerate(enc_freq_order)}\n",
    "        chyper[\" \"] = \" \"\n",
    "        \n",
    "        res.append(cypher_chars(text, chyper))\n",
    "        \n",
    "    return res\n",
    "\n",
    "decrypted = freq_decrypt(encrypted, freq)\n",
    "decrypted"
   ]
  },
  {
   "cell_type": "markdown",
   "metadata": {},
   "source": [
    "**Частотный метод что-то выдаёт, оценим качество с помощью метрики Char Error Rate**"
   ]
  },
  {
   "cell_type": "code",
   "execution_count": 143,
   "metadata": {},
   "outputs": [
    {
     "name": "stdout",
     "output_type": "stream",
     "text": [
      "36.6858\n"
     ]
    }
   ],
   "source": [
    "print(fastwer.score(original, decrypted, char_level=True))"
   ]
  },
  {
   "cell_type": "code",
   "execution_count": 170,
   "metadata": {},
   "outputs": [
    {
     "data": {
      "image/png": "[encoded data removed]",
      "text/plain": [
       "<Figure size 1080x432 with 1 Axes>"
      ]
     },
     "metadata": {
      "needs_background": "light"
     },
     "output_type": "display_data"
    }
   ],
   "source": [
    "scores = []\n",
    "\n",
    "for concat in range(2, 20):\n",
    "    senteces = sample_sentence(ANNA_SENTENCES, 20, concat=concat)\n",
    "    original, encrypted, _ = encrypt(senteces, ALPHABET, katakana)\n",
    "    decrypted = freq_decrypt(encrypted, freq)\n",
    "    score = fastwer.score(original, decrypted, char_level=True)\n",
    "    \n",
    "    avg_text_len = np.mean(list(map(len, original)))\n",
    "    scores.append([avg_text_len, score])\n",
    "                           \n",
    "scores = np.array(scores)\n",
    "\n",
    "plt.figure(figsize=(15,6))\n",
    "plt.plot(scores[:, 0], scores[:, 1], label=\"Char Error Rate\")\n",
    "plt.xlabel(\"Text size (chars)\")\n",
    "plt.legend()\n",
    "plt.show()"
   ]
  },
  {
   "cell_type": "markdown",
   "metadata": {},
   "source": [
    "**Зависимость качества от размера загифрованного текста. Как и полагается ошибка уменьшается с ростом размера сообщения**"
   ]
  },
  {
   "cell_type": "markdown",
   "metadata": {},
   "source": [
    "# 2. Биграмная частотная расшифровка"
   ]
  },
  {
   "cell_type": "markdown",
   "metadata": {},
   "source": [
    "**Всё таки сделаю по нормальному, уберу из текста всё лишнее кроме русских букв и пробелов, чтобы упростить работу другим функциям**"
   ]
  },
  {
   "cell_type": "code",
   "execution_count": 231,
   "metadata": {},
   "outputs": [
    {
     "data": {
      "text/plain": [
       "'Анна Каренина один из самых знаменитых романов Льва Толстого начинается ставшей афоризмом фразой Все'"
      ]
     },
     "execution_count": 231,
     "metadata": {},
     "output_type": "execute_result"
    }
   ],
   "source": [
    "def clean_text(text):\n",
    "    res = []\n",
    "    \n",
    "    for c in text:\n",
    "        if c == \" \" or letter_filter(c, cyrillic=True):\n",
    "            res.append(c)\n",
    "            \n",
    "    return \"\".join(res)\n",
    "\n",
    "ANNA_CLEAN_TEXT = clean_text(ANNA_TEXT)\n",
    "ANNA_CLEAN_TEXT[0:100]"
   ]
  },
  {
   "cell_type": "code",
   "execution_count": 232,
   "metadata": {},
   "outputs": [
    {
     "name": "stdout",
     "output_type": "stream",
     "text": [
      "849\n"
     ]
    },
    {
     "data": {
      "text/plain": [
       "[(39425, 'О '),\n",
       " (31310, 'Е '),\n",
       " (31156, 'А '),\n",
       " (30321, 'И '),\n",
       " (27158, ' Н'),\n",
       " (26942, ' С'),\n",
       " (24561, ' В'),\n",
       " (24162, 'ТО'),\n",
       " (23483, ' П'),\n",
       " (22353, ' О'),\n",
       " (18580, 'Я '),\n",
       " (18511, ' И'),\n",
       " (18425, 'НА'),\n",
       " (17654, 'СТ'),\n",
       " (17330, 'Ь '),\n",
       " (16582, 'НЕ'),\n",
       " (16334, 'НО'),\n",
       " (16156, 'АЛ'),\n",
       " (15002, ' К'),\n",
       " (14059, 'ГО')]"
      ]
     },
     "execution_count": 232,
     "metadata": {},
     "output_type": "execute_result"
    }
   ],
   "source": [
    "def calc_bigram_freq(text, cyrillic=False, skip_aplha_check=False):\n",
    "    counter = defaultdict(int)\n",
    "    \n",
    "    bigram = []\n",
    "    for c in text.upper():\n",
    "        bigram.append(c)\n",
    "\n",
    "        while len(bigram) > 2:\n",
    "            bigram.pop(0)\n",
    "\n",
    "        if len(bigram) == 2:\n",
    "            counter[\"\".join(bigram)] += 1                          \n",
    "\n",
    "    return sort_by_count(counter)\n",
    "\n",
    "bigram_freq = calc_bigram_freq(ANNA_CLEAN_TEXT)\n",
    "\n",
    "print(len(bigram_freq))\n",
    "bigram_freq[0:20]"
   ]
  },
  {
   "cell_type": "code",
   "execution_count": 233,
   "metadata": {},
   "outputs": [
    {
     "data": {
      "text/plain": [
       "(['И КОГДА ОН ВЫШЕЛ ИЗ ВАГОНА В БОЛОГОВЕ ЧТОБЫ ВЫПИТЬ СЕЛЬТЕРСКОЙ ВОДЫ И УВИДАЛ АННУ НЕВОЛЬНО ПЕРВОЕ СЛОВО ЕГО СКАЗАЛО ЕЙ ТО САМОЕ ЧТО ОН ДУМАЛ  ВСКРИКНУЛ ОН УЗНАВ СТЕПАНА АРКАДЬИЧА ОН ХОТЕЛ ПОДХВАТИТЬ УРОНИЛ И С ДОСАДЫ ТОЛКНУЛ НОГОЙ СТОЛ И ПОЗВОНИЛ',\n",
       "  'К СВОЕЙ СКАЧКЕ ОН МОГ ПОСПЕТЬ НО ЕСЛИ ОН ПОЕДЕТ К БРЯНСКОМУ ТО ОН ТОЛЬКОТОЛЬКО ПРИЕДЕТ И ПРИЕДЕТ КОГДА УЖЕ БУДЕТ ВЕСЬ ДВОР  Я ДУМАЮ  СКАЗАЛ КОНСТАНТИН  ЧТО НИКАКАЯ ДЕЯТЕЛЬНОСТЬ НЕ МОЖЕТ БЫТЬ ПРОЧНА ЕСЛИ ОНА НЕ ИМЕЕТ ОСНОВЫ В ЛИЧНОМ ИНТЕРЕСЕ  ВАРЕНЬКА ЖДЕТ  СКАЗАЛА ОНА ОСТОРОЖНО НАДЕВАЯ НА НЕГО ШЛЯПУ ПО УЛЫБКЕ СЕРГЕЯ ИВАНОВИЧА УВИДАВ ЧТО ЭТО БЫЛО МОЖНО'],\n",
       " ['メ ジルトパゼ ル・ ナゴヮモザ メゥ ナゼトル・ゼ ナ コルザルトルナモ ラミルコゴ ナゴチメミダ キモザダミモバキジルカ ナルパゴ メ ッナメパゼザ ゼ・・ッ ・モナルザダ・ル チモバナルモ キザルナル モトル キジゼゥゼザル モカ ミル キゼエルモ ラミル ル・ パッエゼザ  ナキジバメジ・ッザ ル・ ッゥ・ゼナ キミモチゼ・ゼ ゼバジゼパダメラゼ ル・ ドルミモザ チルパドナゼミメミダ ッバル・メザ メ キ パルキゼパゴ ミルザジ・ッザ ・ルトルカ キミルザ メ チルゥナル・メザ',\n",
       "  'ン ョメシヤス ョンクベンヤ シヷ ヮシニ フショフヤテ・ ヷシ ヤョタレ シヷ フシヤヘヤテ ン ィユキヷョンシヮヨ テシ シヷ テシタ・ンシテシタ・ンシ フユレヤヘヤテ レ フユレヤヘヤテ ンシニヘク ヨオヤ ィヨヘヤテ メヤョ・ ヘメシユ  キ ヘヨヮクル  ョンクプクタ ンシヷョテクヷテレヷ  ベテシ ヷレンクンクキ ヘヤキテヤタ・ヷショテ・ ヷヤ ヮシオヤテ ィセテ・ フユシベヷク ヤョタレ シヷク ヷヤ レヮヤヤテ ショヷシメセ メ タレベヷシヮ レヷテヤユヤョヤ  メクユヤヷ・ンク オヘヤテ  ョンクプクタク シヷク ショテシユシオヷシ ヷクヘヤメクキ ヷク ヷヤニシ ホタキフヨ フシ ヨタセィンヤ ョヤユニヤキ レメクヷシメレベク ヨメレヘクメ ベテシ ヅテシ ィセタシ ヮシオヷシ'])"
      ]
     },
     "execution_count": 233,
     "metadata": {},
     "output_type": "execute_result"
    }
   ],
   "source": [
    "senteces = sample_sentence(ANNA_SENTENCES, 2, concat=3)\n",
    "original, encrypted, _ = encrypt(senteces, ALPHABET, katakana)\n",
    "original, encrypted"
   ]
  },
  {
   "cell_type": "code",
   "execution_count": 235,
   "metadata": {},
   "outputs": [
    {
     "data": {
      "text/plain": [
       "[' ОВ ЕГ ИЕ  НЭТАЛСТЕЙТЬЯ НЕ НЕД ПНОЙ  КРООГ ТПРЧЕОТА АЛ АМ КОВО НЛ  Т ОЛЬВЕОНТА  ОБОМ ВЗАОВЛАМ  В КИВЙ И РИИ КОС ОНИ СЕСКИ РЕМИ КРОИ Е ТЕ ЛОННУТИ ЭДАЬ О Е КА ЖМЕА ГОЮ НЕТАЖЕВААВДЕНАТОИТГОО ЕЛЫ ТЬАКОТКАИНЕНО  ОТВАТРЕ ЧСК ПОРЛОЛЕНОВОА  СО  ОЕЛСЛЕ  Б',\n",
       " 'ОЛАВИЛЧАГОДИ М П КОВОЕРО АЕ АЛИ АЗЛИЕН ИНАИЛ Н ВОЛДУБОГОВИН  С П К СРАЬ  СРАЬ НАРЕЛ Е КОНАРЕЛ Е У ЧТК ТЬАТНИОБЕ ПРОНАЛМИДЕНО ТТВ РЛЬНЕ ООГАЯЬ ЛОЕДЕЛВАНОАНО ЖЕ О О Т НОЖКИ УПОМ ТОЯ ОВАТ ВЫ М НА ЕОМА ОН Б ПСТТОЯ ДОНЫ ВПОИ ИМПРИЯВ И ТИВАЕТЛЕЗАНОЙ ЛЕ З ОУЖ Н ВНЕ ООГАМ ПСТ П ДДЕОТИ ТОБЕС ОДТОА ЛАЕЙСАСОЫЛНАО  ГРУ МНЕЕРСЛ ТЕГТ РИВ А ВСАСПЕБЫ СЕК СНИАРО ОВАК']"
      ]
     },
     "execution_count": 235,
     "metadata": {},
     "output_type": "execute_result"
    }
   ],
   "source": [
    "def cypher_bigrams(text, chyper):\n",
    "    res = []\n",
    "    bigram = []\n",
    "    \n",
    "    for c in text:\n",
    "        bigram.append(c)\n",
    "    \n",
    "        if len(bigram) == 2:\n",
    "            res.append(chyper[\"\".join(bigram)])\n",
    "            bigram = []\n",
    "                \n",
    "    return \"\".join(res)\n",
    "\n",
    "def bigram_freq_decrypt(texts, bigram_freq):    \n",
    "    bigram_freq_order = list(map(itemgetter(1), bigram_freq))\n",
    "    \n",
    "    res = []\n",
    "    for text in texts:\n",
    "        enc_freq = calc_bigram_freq(text, skip_aplha_check=True)        \n",
    "        enc_freq_order =  list(map(itemgetter(1), enc_freq))\n",
    "        chyper = {cc:bigram_freq_order[i] for i, cc in enumerate(enc_freq_order)}        \n",
    "        res.append(cypher_bigrams(text, chyper))\n",
    "        \n",
    "    return res\n",
    "\n",
    "decrypted = bigram_freq_decrypt(encrypted, bigram_freq)\n",
    "decrypted"
   ]
  },
  {
   "cell_type": "markdown",
   "metadata": {},
   "source": [
    "**На биграмах качество хуже при таком же размере зашифрованных сообщений**"
   ]
  },
  {
   "cell_type": "code",
   "execution_count": 237,
   "metadata": {},
   "outputs": [
    {
     "data": {
      "image/png": "[encoded data removed]",
      "text/plain": [
       "<Figure size 1080x432 with 1 Axes>"
      ]
     },
     "metadata": {
      "needs_background": "light"
     },
     "output_type": "display_data"
    }
   ],
   "source": [
    "bigram_scores = []\n",
    "\n",
    "for concat in range(2, 20):\n",
    "    senteces = sample_sentence(ANNA_SENTENCES, 20, concat=concat)\n",
    "    original, encrypted, _ = encrypt(senteces, ALPHABET, katakana)\n",
    "    decrypted = bigram_freq_decrypt(encrypted, bigram_freq)\n",
    "    score = fastwer.score(original, decrypted, char_level=True)\n",
    "    \n",
    "    avg_text_len = np.mean(list(map(len, original)))\n",
    "    bigram_scores.append([avg_text_len, score])\n",
    "                           \n",
    "bigram_scores = np.array(bigram_scores)\n",
    "\n",
    "plt.figure(figsize=(15,6))\n",
    "plt.plot(bigram_scores[:, 0], bigram_scores[:, 1], label=\"Char Error Rate\")\n",
    "plt.xlabel(\"Text size (chars)\")\n",
    "plt.legend()\n",
    "plt.show()"
   ]
  },
  {
   "cell_type": "markdown",
   "metadata": {},
   "source": [
    "# 3. MCMC сэмлирование"
   ]
  },
  {
   "cell_type": "markdown",
   "metadata": {},
   "source": [
    "**Представим что предложение - это Марковская цепь, тогда большая вероятность следования некой цепочки биграм должна соответствовать тексту со смыслом, а низкая случайному набору символов. Будем жадным перебором искать шифр дающий наибольшую вероятность (правдоподобие) осмысленного текста**"
   ]
  },
  {
   "cell_type": "code",
   "execution_count": 303,
   "metadata": {},
   "outputs": [
    {
     "data": {
      "text/plain": [
       "[('О ', 0.023218341930647094),\n",
       " ('Е ', 0.018439220947331907),\n",
       " ('А ', 0.018348526599651003),\n",
       " ('И ', 0.017856774779433114),\n",
       " (' Н', 0.015994007105961033),\n",
       " (' С', 0.015866799449473532),\n",
       " (' В', 0.014464570606433056),\n",
       " ('ТО', 0.014229589796532532),\n",
       " (' П', 0.013829710172666727),\n",
       " (' О', 0.0131642256734497),\n",
       " ('Я ', 0.010942214155267546),\n",
       " (' И', 0.010901578376111816),\n",
       " ('НА', 0.01085093088325105),\n",
       " ('СТ', 0.010396870220510938),\n",
       " ('Ь ', 0.010206058735779686),\n",
       " ('НЕ', 0.00976554333275815),\n",
       " ('НО', 0.00961949009753176),\n",
       " ('АЛ', 0.009514661565796688),\n",
       " (' К', 0.008835042882525497),\n",
       " ('ГО', 0.008279687234063854)]"
      ]
     },
     "execution_count": 303,
     "metadata": {},
     "output_type": "execute_result"
    }
   ],
   "source": [
    "def freq_to_proba(freq):   \n",
    "    total = sum(map(itemgetter(0), freq))\n",
    "    return {gram : count / total for count, gram in freq}, total\n",
    "\n",
    "bigram_proba, total_bigrams = freq_to_proba(bigram_freq)\n",
    "list(bigram_proba.items())[0:20]"
   ]
  },
  {
   "cell_type": "code",
   "execution_count": 378,
   "metadata": {},
   "outputs": [],
   "source": [
    "def calc_text_proba(text, mapping, bigram_probas, gram=2):\n",
    "    decoded = cypher_chars(text, mapping)\n",
    "    total_proba = 0\n",
    "    \n",
    "    for i in range(len(decoded) - gram):\n",
    "        bigram = decoded[i: i + gram]\n",
    "        proba = bigram_proba.get(bigram, 1 / total_bigrams)\n",
    "        total_proba += np.log(proba)\n",
    "        \n",
    "    return total_proba\n",
    "        \n",
    "def mcmc_decrypt_step(encoded_text, alphabet, alphabet_enc, iterations):\n",
    "    alphabet_iter = alphabet.copy()\n",
    "    chyper = {cc: alphabet_iter[i] for i, cc in enumerate(alphabet_enc)}\n",
    "    log_proba = calc_text_proba(encoded_text, chyper, bigram_proba, gram=2)\n",
    "\n",
    "    for _ in range(iterations):\n",
    "        new_alphabet = alphabet_iter[:]\n",
    "        i, j = np.random.choice(len(new_alphabet), size=2, replace=False)\n",
    "        new_alphabet[i], new_alphabet[j] = new_alphabet[j], new_alphabet[i]\n",
    "        new_chyper = {cc: new_alphabet[i] for i, cc in enumerate(alphabet_enc)}\n",
    "        new_log_proba = calc_text_proba(encoded_text, new_chyper, bigram_proba, gram=2)\n",
    "\n",
    "        if new_log_proba > log_proba:\n",
    "            alphabet_iter = new_alphabet\n",
    "            log_proba = new_log_proba\n",
    "            chyper = new_chyper\n",
    "\n",
    "    return chyper, log_proba\n",
    "\n",
    "def mcmc_decrypt(encoded_text, alphabet, alphabet_enc, bigram_proba, iterations=1000, trials=10):\n",
    "    best_cypher = None\n",
    "    best_proba = -np.inf\n",
    "\n",
    "    for _ in tqdm(range(trials)):\n",
    "        chyper, log_proba = mcmc_decrypt_step(encoded_text, alphabet, alphabet_enc, iterations)\n",
    "\n",
    "        if log_proba > best_proba:\n",
    "            best_proba = log_proba\n",
    "            best_cypher = chyper\n",
    "            print(f'Best proba: {best_proba}')\n",
    "\n",
    "    return best_cypher"
   ]
  },
  {
   "cell_type": "code",
   "execution_count": 253,
   "metadata": {},
   "outputs": [
    {
     "data": {
      "text/plain": [
       "['ヘタノバタ ヅタヨテヘ ユハヘワ ヽドヽタテバーユヰホワ バドスュドォトテバーテ ー ユタュワユド ォ ユテァヽタバテノバタヅ  ヽューノドト ヽバジゲワ ュドゲヅドアーォドジ ュヰヽドヅー ー ヘタヘノドァ ヨテ ゲドスドアーォドジ ァォタズ ユテトーノーズ アドトドヘ ヽドヽ ヨテ バドヅ スタヅーューヘワァジ ヽドヽ ヨテ バドヅ スタヅーューヘワァジ  バヰ ヘテステュワ ホドォドズ ブタォタューヘワ タ ヘテユテ  スューユドォートド タバド ォァヘュジアーォドジ ブタトタォタズ ヽドヽ ユヰホヘタ アタヘテトド ヴーゲーノテァヽー タヘタブバドヘワ ノヘタヘタ トーヲバテテ ー ヅテヲドォヲテテ テズ  タバ スュー ヅバテ ゲォドト テテ バド ヅドゲヰュヽヰ  ァヽドゲドトド バタュホァヘタバ ゲバドジ ノヘタ ヽーヘー スタズヅテヘ ヽヘタ タバ ー タバド']"
      ]
     },
     "execution_count": 253,
     "metadata": {},
     "output_type": "execute_result"
    }
   ],
   "source": [
    "senteces = sample_sentence(ANNA_SENTENCES, 1, concat=5)\n",
    "original, encrypted, cypher_alpha = encrypt(senteces, ALPHABET, katakana)\n",
    "encrypted"
   ]
  },
  {
   "cell_type": "code",
   "execution_count": 379,
   "metadata": {},
   "outputs": [
    {
     "data": {
      "application/vnd.jupyter.widget-view+json": {
       "model_id": "8bbfc59c429d4fd4a75c207f564d9981",
       "version_major": 2,
       "version_minor": 0
      },
      "text/plain": [
       "HBox(children=(FloatProgress(value=0.0, max=10.0), HTML(value='')))"
      ]
     },
     "metadata": {},
     "output_type": "display_data"
    },
    {
     "name": "stdout",
     "output_type": "stream",
     "text": [
      "Best proba: -2145.278830692597\n",
      "\n"
     ]
    }
   ],
   "source": [
    "best_chyper = mcmc_decrypt(\n",
    "    encrypted[0], \n",
    "    list(ALPHABET) + [\" \"],\n",
    "    cypher_alpha[0] + [\" \"], \n",
    "    bigram_proba\n",
    ")"
   ]
  },
  {
   "cell_type": "code",
   "execution_count": 380,
   "metadata": {},
   "outputs": [
    {
     "data": {
      "text/plain": [
       "'ТОЧНО МОЖЕТ БЫТЬ КАКОЕНИБУДЬ НАПРАВЛЕНИЕ И БОРЬБА В БЕСКОНЕЧНОМ  КРИЧАЛ КНЯЗЬ РАЗМАГИВАЯ РУКАМИ И ТОТЧАС ЖЕ ЗАПАГИВАЯ СВОЙ БЕЛИЧИЙ ГАЛАТ КАК ЖЕ НАМ ПОМИРИТЬСЯ КАК ЖЕ НАМ ПОМИРИТЬСЯ  НУ ТЕПЕРЬ ДАВАЙ ХОВОРИТЬ О ТЕБЕ  ПРИБАВИЛА ОНА ВСТРЯГИВАЯ ХОЛОВОЙ КАК БУДТО ГОТЕЛА ФИЗИЧЕСКИ ОТОХНАТЬ ЧТОТО ЛИШНЕЕ И МЕШАВШЕЕ ЕЙ  ОН ПРИ МНЕ ЗВАЛ ЕЕ НА МАЗУРКУ  СКАЗАЛА НОРДСТОН ЗНАЯ ЧТО КИТИ ПОЙМЕТ КТО ОН И ОНА'"
      ]
     },
     "execution_count": 380,
     "metadata": {},
     "output_type": "execute_result"
    }
   ],
   "source": [
    "decrypted = cypher_chars(encrypted[0], best_chyper)\n",
    "decrypted"
   ]
  },
  {
   "cell_type": "code",
   "execution_count": 381,
   "metadata": {},
   "outputs": [
    {
     "name": "stdout",
     "output_type": "stream",
     "text": [
      "CER = 1.1158\n"
     ]
    }
   ],
   "source": [
    "print(\"CER =\", fastwer.score(original, [decrypted], char_level=True))"
   ]
  },
  {
   "cell_type": "markdown",
   "metadata": {},
   "source": [
    "**Это работает!**"
   ]
  },
  {
   "cell_type": "markdown",
   "metadata": {},
   "source": [
    "# 4. Расшифровка"
   ]
  },
  {
   "cell_type": "code",
   "execution_count": 186,
   "metadata": {},
   "outputs": [],
   "source": [
    "enc_text = \"დჳჵჂႨშႼႨშჂხჂჲდႨსႹႭჾႣჵისႼჰႨჂჵჂႨႲႹႧჲჂႨსႹႭჾႣჵისႼჰႨჲდႩჳჲႨჇႨႠჲႹქႹႨჳႹႹჱჶდსჂႽႨႩႹჲႹႭႼჰႨჵდქႩႹႨႲႭႹႧჂჲႣჲიႨჳႩႹႭდდႨშჳდქႹႨშႼႨშჳდႨჳხდჵႣჵჂႨႲႭႣშჂჵისႹႨჂႨႲႹჵჇႧჂჲდႨჾႣႩჳჂჾႣჵისႼჰႨჱႣჵჵႨეႣႨႲႹჳჵდხსდდႨႧდჲშდႭჲႹდႨეႣხႣსჂდႨႩჇႭჳႣႨႾႹჲႽႨႩႹსდႧსႹႨႽႨსჂႧდქႹႨსდႨႹჱდჶႣნ\""
   ]
  },
  {
   "cell_type": "markdown",
   "metadata": {},
   "source": [
    "**Попробуем частотный метод**"
   ]
  },
  {
   "cell_type": "code",
   "execution_count": 195,
   "metadata": {},
   "outputs": [
    {
     "data": {
      "text/plain": [
       "['ОЛНА РД РАЫАСО ИЕВЯТНУИДЬ АНА ПЕМСА ИЕВЯТНУИДЬ СОКЛС Ч ЮСЕГЕ ЛЕЕБЖОИАЗ КЕСЕВДЬ НОГКЕ ПВЕМАСТСУ ЛКЕВОО РЛОГЕ РД РЛО ЛЫОНТНА ПВТРАНУИЕ А ПЕНЧМАСО ЯТКЛАЯТНУИДЬ БТНН ЙТ ПЕЛНОЫИОО МОСРОВСЕО ЙТЫТИАО КЧВЛТ ХЕСЗ КЕИОМИЕ З ИАМОГЕ ИО ЕБОЖТШ']"
      ]
     },
     "execution_count": 195,
     "metadata": {},
     "output_type": "execute_result"
    }
   ],
   "source": [
    "freq_wspace = letter_freq(ANNA_TEXT, cyrillic=True, count_space=True)\n",
    "freq_decrypt([enc_text], freq_wspace)"
   ]
  },
  {
   "cell_type": "markdown",
   "metadata": {},
   "source": [
    "**Не работает**\n",
    "**Попробуем метод с семплированием**"
   ]
  },
  {
   "cell_type": "code",
   "execution_count": 390,
   "metadata": {},
   "outputs": [
    {
     "data": {
      "application/vnd.jupyter.widget-view+json": {
       "model_id": "6076f8f9ced6429e909dc26e4ac64596",
       "version_major": 2,
       "version_minor": 0
      },
      "text/plain": [
       "HBox(children=(FloatProgress(value=0.0, max=10.0), HTML(value='')))"
      ]
     },
     "metadata": {},
     "output_type": "display_data"
    },
    {
     "name": "stdout",
     "output_type": "stream",
     "text": [
      "Best proba: -1306.1918556756543\n",
      "Best proba: -1276.0871662363497\n",
      "Best proba: -1234.6544403767348\n",
      "\n"
     ]
    }
   ],
   "source": [
    "best_chyper = mcmc_decrypt(\n",
    "    enc_text, \n",
    "    list(ALPHABET) + [\" \"],\n",
    "    list(set(enc_text)) + [\" \"], \n",
    "    bigram_proba,\n",
    "    iterations=10000\n",
    ")"
   ]
  },
  {
   "cell_type": "code",
   "execution_count": 391,
   "metadata": {},
   "outputs": [
    {
     "data": {
      "text/plain": [
       "'ЕСЛИ ВЫ ВИМИТЕ НОРЖАЛЬНЫЙ ИЛИ ПОДТИ НОРЖАЛЬНЫЙ ТЕКСТ У ЭТОГО СООЧШЕНИЯ КОТОРЫЙ ЛЕГКО ПРОДИТАТЬ СКОРЕЕ ВСЕГО ВЫ ВСЕ СМЕЛАЛИ ПРАВИЛЬНО И ПОЛУДИТЕ ЖАКСИЖАЛЬНЫЙ ЧАЛЛ ЗА ПОСЛЕМНЕЕ ДЕТВЕРТОЕ ЗАМАНИЕ КУРСА БОТЯ КОНЕДНО Я НИДЕГО НЕ ОЧЕШАЮ'"
      ]
     },
     "execution_count": 391,
     "metadata": {},
     "output_type": "execute_result"
    }
   ],
   "source": [
    "cypher_chars(enc_text, best_chyper)"
   ]
  },
  {
   "cell_type": "markdown",
   "metadata": {},
   "source": [
    "**Это успех! Я думал там будет что-нить про Ковид из первого задания**\n",
    "**Зальём железом - увеличим количество итераций, может избавимся от небольших ошибок**"
   ]
  },
  {
   "cell_type": "code",
   "execution_count": 384,
   "metadata": {},
   "outputs": [
    {
     "data": {
      "application/vnd.jupyter.widget-view+json": {
       "model_id": "70b00bd0c7ed464a93732f0571c8faf4",
       "version_major": 2,
       "version_minor": 0
      },
      "text/plain": [
       "HBox(children=(FloatProgress(value=0.0, max=10.0), HTML(value='')))"
      ]
     },
     "metadata": {},
     "output_type": "display_data"
    },
    {
     "name": "stdout",
     "output_type": "stream",
     "text": [
      "Best proba: -1347.6965196214285\n",
      "Best proba: -1290.456607995787\n",
      "Best proba: -1233.1892783771189\n",
      "\n"
     ]
    }
   ],
   "source": [
    "best_chyper_max = mcmc_decrypt(\n",
    "    enc_text, \n",
    "    list(ALPHABET) + [\" \"],\n",
    "    list(set(enc_text)) + [\" \"], \n",
    "    bigram_proba,\n",
    "    iterations=50000\n",
    ")"
   ]
  },
  {
   "cell_type": "code",
   "execution_count": 385,
   "metadata": {},
   "outputs": [
    {
     "data": {
      "text/plain": [
       "'ЕСЛИ ВЫ ВИМИТЕ НОРДАЛЬНЫЙ ИЛИ ПОЧТИ НОРДАЛЬНЫЙ ТЕКСТ У ЭТОГО СООБЩЕНИЯ КОТОРЫЙ ЛЕГКО ПРОЧИТАТЬ СКОРЕЕ ВСЕГО ВЫ ВСЕ СМЕЛАЛИ ПРАВИЛЬНО И ПОЛУЧИТЕ ДАКСИДАЛЬНЫЙ БАЛЛ ЗА ПОСЛЕМНЕЕ ЧЕТВЕРТОЕ ЗАМАНИЕ КУРСА ХОТЯ КОНЕЧНО Я НИЧЕГО НЕ ОБЕЩАЦ'"
      ]
     },
     "execution_count": 385,
     "metadata": {},
     "output_type": "execute_result"
    }
   ],
   "source": [
    "cypher_chars(enc_text, best_chyper_max)"
   ]
  },
  {
   "cell_type": "markdown",
   "metadata": {},
   "source": [
    "**Стало лучше, только пару букв местами надо поменять, но в целом метод рабочий**"
   ]
  },
  {
   "cell_type": "code",
   "execution_count": 386,
   "metadata": {},
   "outputs": [
    {
     "data": {
      "text/plain": [
       "{'ჲ': 'Т',\n",
       " 'Ⴙ': 'О',\n",
       " 'შ': 'В',\n",
       " 'ნ': 'Ц',\n",
       " 'Ⴝ': 'Я',\n",
       " 'ქ': 'Г',\n",
       " 'ხ': 'М',\n",
       " 'Ⴇ': 'Ч',\n",
       " 'ჶ': 'Щ',\n",
       " 'ე': 'З',\n",
       " 'დ': 'Е',\n",
       " 'Ⴒ': 'П',\n",
       " 'ჵ': 'Л',\n",
       " 'ჰ': 'Й',\n",
       " 'Ⴀ': 'Э',\n",
       " 'Ⴜ': 'Ы',\n",
       " 'ი': 'Ь',\n",
       " 'ჳ': 'С',\n",
       " 'Ⴉ': 'К',\n",
       " 'Ⴈ': ' ',\n",
       " 'ჱ': 'Б',\n",
       " 'ჾ': 'Д',\n",
       " 'Ⴧ': 'У',\n",
       " 'ს': 'Н',\n",
       " 'Ⴍ': 'Р',\n",
       " 'Ⴃ': 'А',\n",
       " 'Ⴢ': 'И',\n",
       " 'Ⴞ': 'Х',\n",
       " ' ': 'Ш'}"
      ]
     },
     "execution_count": 386,
     "metadata": {},
     "output_type": "execute_result"
    }
   ],
   "source": [
    "best_chyper_max"
   ]
  },
  {
   "cell_type": "code",
   "execution_count": 389,
   "metadata": {},
   "outputs": [
    {
     "data": {
      "text/plain": [
       "'ЕСЛИ ВЫ ВИДИТЕ НОРМАЛЬНЫЙ ИЛИ ПОЧТИ НОРМАЛЬНЫЙ ТЕКСТ У ЭТОГО СООБЩЕНИЯ КОТОРЫЙ ЛЕГКО ПРОЧИТАТЬ СКОРЕЕ ВСЕГО ВЫ ВСЕ СДЕЛАЛИ ПРАВИЛЬНО И ПОЛУЧИТЕ МАКСИМАЛЬНЫЙ БАЛЛ ЗА ПОСЛЕДНЕЕ ЧЕТВЕРТОЕ ЗАДАНИЕ КУРСА ХОТЯ КОНЕЧНО Я НИЧЕГО НЕ ОБЕЩАЮ'"
      ]
     },
     "execution_count": 389,
     "metadata": {},
     "output_type": "execute_result"
    }
   ],
   "source": [
    "best_chyper = best_chyper_max.copy()\n",
    "best_chyper['ჾ'] = 'М'\n",
    "best_chyper['ხ'] = 'Д'\n",
    "best_chyper['ნ'] = 'Ю'\n",
    "cypher_chars(enc_text, best_chyper)"
   ]
  },
  {
   "cell_type": "markdown",
   "metadata": {},
   "source": [
    "**Ааа, кажется я понял, Анна Каренина написана ещё дореволюционным алфавитом, там буквы Ё не было, это точно из-за транслитерации**"
   ]
  },
  {
   "cell_type": "code",
   "execution_count": null,
   "metadata": {},
   "outputs": [],
   "source": []
  }
 ],
 "metadata": {
  "kernelspec": {
   "display_name": "Python 3",
   "language": "python",
   "name": "python3"
  },
  "language_info": {
   "codemirror_mode": {
    "name": "ipython",
    "version": 3
   },
   "file_extension": ".py",
   "mimetype": "text/x-python",
   "name": "python",
   "nbconvert_exporter": "python",
   "pygments_lexer": "ipython3",
   "version": "3.6.10"
  }
 },
 "nbformat": 4,
 "nbformat_minor": 4
}
